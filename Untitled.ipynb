{
 "cells": [
  {
   "cell_type": "code",
   "execution_count": 165,
   "id": "1815132a-c96c-42ed-8da8-fd38f23c4dcb",
   "metadata": {},
   "outputs": [],
   "source": [
    "import pandas as pd\n",
    "import numpy as np"
   ]
  },
  {
   "cell_type": "code",
   "execution_count": 166,
   "id": "4f87ccae-f207-43e5-8869-f4bb406a6d01",
   "metadata": {},
   "outputs": [
    {
     "name": "stdout",
     "output_type": "stream",
     "text": [
      "<class 'pandas.core.frame.DataFrame'>\n",
      "RangeIndex: 308292 entries, 0 to 308291\n",
      "Data columns (total 15 columns):\n",
      " #   Column              Non-Null Count   Dtype  \n",
      "---  ------              --------------   -----  \n",
      " 0   Real_Estate_Id      308292 non-null  int64  \n",
      " 1   Deeded_Acreage      308292 non-null  float64\n",
      " 2   Total_Sale_Price    308292 non-null  int64  \n",
      " 3   Total_Sale_Date     308292 non-null  object \n",
      " 4   Month_Year_of_Sale  308292 non-null  object \n",
      " 5   Year_of_Sale        308292 non-null  int64  \n",
      " 6   Year_Built          308292 non-null  int64  \n",
      " 7   Year_Remodeled      308292 non-null  int64  \n",
      " 8   Heated_Area         308292 non-null  int64  \n",
      " 9   Num_Stories         308292 non-null  object \n",
      " 10  Design_Style        308292 non-null  object \n",
      " 11  Bath                308275 non-null  object \n",
      " 12  Utilities           306324 non-null  object \n",
      " 13  Physical_City       308183 non-null  object \n",
      " 14  Physical_Zip        308146 non-null  float64\n",
      "dtypes: float64(2), int64(6), object(7)\n",
      "memory usage: 35.3+ MB\n"
     ]
    }
   ],
   "source": [
    "path = '/Users/ianwe/Documents/GitHub/PlanningAhead/Wake County Data/' ## Update this to the path to where the repo is cloned\n",
    "\n",
    "\n",
    "wakeCounty = pd.read_csv(path + 'WakeCountyHousing.csv')\n",
    "\n",
    "wakeCounty.info()"
   ]
  },
  {
   "cell_type": "markdown",
   "id": "5739f934-86eb-4bbd-8a91-668c7ac22855",
   "metadata": {},
   "source": [
    "### Wake County\n",
    "#### Clean the Data (deal with missing values)"
   ]
  },
  {
   "cell_type": "code",
   "execution_count": 167,
   "id": "7f3d8c12-bb4c-4e29-bb84-5f9841136ee6",
   "metadata": {},
   "outputs": [
    {
     "data": {
      "text/plain": [
       "ID                    0\n",
       "acreage               0\n",
       "total_sale_price      0\n",
       "total_sale_date       0\n",
       "Month_Year_of_Sale    0\n",
       "year_of_sale          0\n",
       "Year_Built            0\n",
       "year_remodeled        0\n",
       "Heated_Area           0\n",
       "num_stories           0\n",
       "design_style          0\n",
       "bath                  0\n",
       "utilities             0\n",
       "city                  0\n",
       "zip                   0\n",
       "dtype: int64"
      ]
     },
     "execution_count": 167,
     "metadata": {},
     "output_type": "execute_result"
    }
   ],
   "source": [
    "wakeCounty.rename(columns={'Real_Estate_Id':'ID',\n",
    "                            'Deeded_Acreage':'acreage',\n",
    "                            'Total_Sale_Price':'total_sale_price',\n",
    "                            'Total_Sale_Date':'total_sale_date',\n",
    "                            'Month_Year_Sale':'month_year_sale',\n",
    "                            'Year_of_Sale':'year_of_sale',\n",
    "                            'Yeah_Build':'year_built',\n",
    "                            'Year_Remodeled':'year_remodeled',\n",
    "                            'Headed_Area':'headed_area',\n",
    "                            'Num_Stories':'num_stories',\n",
    "                            'Design_Style':'design_style',\n",
    "                            'Bath':'bath',\n",
    "                            'Utilities':'utilities',\n",
    "                            'Physical_City':'city',\n",
    "                            'Physical_Zip':'zip'\n",
    "                          },inplace=True)\n",
    "\n",
    "wakeCounty[\"bath\"] = wakeCounty[\"bath\"].fillna(\"None of Fixtures\")\n",
    "wakeCounty[\"utilities\"] = wakeCounty[\"utilities\"].fillna(\"N/A\")\n",
    "wakeCounty[\"city\"] = wakeCounty[\"city\"].fillna(\"Outside of City Limits\")\n",
    "wakeCounty = wakeCounty.dropna()\n",
    "\n",
    "wakeCounty.isnull().sum()"
   ]
  },
  {
   "cell_type": "markdown",
   "id": "3c45ea27-0585-4acb-ba60-adba70c94726",
   "metadata": {},
   "source": [
    "#### Use One-Hot Encoder"
   ]
  },
  {
   "cell_type": "code",
   "execution_count": 169,
   "id": "fc547325-0a15-4a93-a90d-27f87d5ba9b8",
   "metadata": {},
   "outputs": [
    {
     "data": {
      "text/plain": [
       "array([[0., 0., 0., ..., 0., 1., 0.],\n",
       "       [0., 0., 0., ..., 0., 0., 0.],\n",
       "       [0., 0., 0., ..., 0., 0., 0.],\n",
       "       ...,\n",
       "       [0., 0., 0., ..., 0., 0., 0.],\n",
       "       [0., 0., 0., ..., 0., 0., 0.],\n",
       "       [0., 0., 0., ..., 0., 0., 0.]])"
      ]
     },
     "execution_count": 169,
     "metadata": {},
     "output_type": "execute_result"
    }
   ],
   "source": [
    "from sklearn.preprocessing import OneHotEncoder\n",
    "\n",
    "#One hot encode 'design_style'\n",
    "ohe = OneHotEncoder(sparse=False)\n",
    "X = ohe.fit_transform(wakeCounty[['design_style']])\n",
    "\n",
    "X"
   ]
  },
  {
   "cell_type": "markdown",
   "id": "637a5fd3-e327-4308-b1bb-93924fd6e2b3",
   "metadata": {},
   "source": []
  },
  {
   "cell_type": "markdown",
   "id": "b2781b84-9931-409a-9549-590758ddbb49",
   "metadata": {},
   "source": [
    "### Making a Custom Transformer to use Ordinal Encoding"
   ]
  },
  {
   "cell_type": "code",
   "execution_count": 170,
   "id": "5db9c313-65c5-441e-ae25-0aea9691bff5",
   "metadata": {},
   "outputs": [],
   "source": [
    "from sklearn.pipeline import Pipeline\n",
    "from sklearn.base import BaseEstimator, TransformerMixin"
   ]
  },
  {
   "cell_type": "code",
   "execution_count": 171,
   "id": "9cd47882-d578-4b2a-a6f6-1506f94055f5",
   "metadata": {},
   "outputs": [],
   "source": [
    "class customEncoderTranformer(BaseEstimator, TransformerMixin):\n",
    "    def __init__(self, columns=None):\n",
    "        self.columns = columns\n",
    "        \n",
    "    def fit(self, X, y=None):\n",
    "        return self\n",
    "    \n",
    "    def transform(self, X, y=None):\n",
    "        cols_to_transform = list(X.columns)\n",
    "        \n",
    "        if self.columns:\n",
    "            cols_to_transform = self.columns\n",
    "                   \n",
    "        encoder = OrdinalEncoder()\n",
    "        encoder.fit(X[cols_to_transform])\n",
    "        X[cols_to_transform] = encoder.transform(X[cols_to_transform])\n",
    "        return X"
   ]
  },
  {
   "cell_type": "code",
   "execution_count": 172,
   "id": "629225a4-ef1f-4f0c-a9a7-972e8a57fc48",
   "metadata": {},
   "outputs": [],
   "source": [
    "pipe = Pipeline(\n",
    "    steps=[\n",
    "        (\"ordinal_encoder\", customEncoderTranformer(columns=['bath']))\n",
    "    ]\n",
    ")\n",
    "\n",
    "transformed_df = pipe.fit_transform(wakeCounty)"
   ]
  },
  {
   "cell_type": "code",
   "execution_count": 173,
   "id": "620872c8-61ed-4a35-909a-a2090793ac31",
   "metadata": {},
   "outputs": [
    {
     "data": {
      "text/html": [
       "<div>\n",
       "<style scoped>\n",
       "    .dataframe tbody tr th:only-of-type {\n",
       "        vertical-align: middle;\n",
       "    }\n",
       "\n",
       "    .dataframe tbody tr th {\n",
       "        vertical-align: top;\n",
       "    }\n",
       "\n",
       "    .dataframe thead th {\n",
       "        text-align: right;\n",
       "    }\n",
       "</style>\n",
       "<table border=\"1\" class=\"dataframe\">\n",
       "  <thead>\n",
       "    <tr style=\"text-align: right;\">\n",
       "      <th></th>\n",
       "      <th>ID</th>\n",
       "      <th>acreage</th>\n",
       "      <th>total_sale_price</th>\n",
       "      <th>total_sale_date</th>\n",
       "      <th>Month_Year_of_Sale</th>\n",
       "      <th>year_of_sale</th>\n",
       "      <th>Year_Built</th>\n",
       "      <th>year_remodeled</th>\n",
       "      <th>Heated_Area</th>\n",
       "      <th>num_stories</th>\n",
       "      <th>design_style</th>\n",
       "      <th>bath</th>\n",
       "      <th>utilities</th>\n",
       "      <th>city</th>\n",
       "      <th>zip</th>\n",
       "    </tr>\n",
       "  </thead>\n",
       "  <tbody>\n",
       "    <tr>\n",
       "      <th>0</th>\n",
       "      <td>19</td>\n",
       "      <td>0.21</td>\n",
       "      <td>34500</td>\n",
       "      <td>1/1/1974</td>\n",
       "      <td>January 1974</td>\n",
       "      <td>1974</td>\n",
       "      <td>1964</td>\n",
       "      <td>1964</td>\n",
       "      <td>1828</td>\n",
       "      <td>One Story</td>\n",
       "      <td>Split level</td>\n",
       "      <td>2.0</td>\n",
       "      <td>ALL</td>\n",
       "      <td>Raleigh</td>\n",
       "      <td>27610.0</td>\n",
       "    </tr>\n",
       "    <tr>\n",
       "      <th>1</th>\n",
       "      <td>20</td>\n",
       "      <td>0.46</td>\n",
       "      <td>35500</td>\n",
       "      <td>5/18/1983</td>\n",
       "      <td>May 1983</td>\n",
       "      <td>1983</td>\n",
       "      <td>1970</td>\n",
       "      <td>1970</td>\n",
       "      <td>1240</td>\n",
       "      <td>One Story</td>\n",
       "      <td>Conventional</td>\n",
       "      <td>0.0</td>\n",
       "      <td>E</td>\n",
       "      <td>Raleigh</td>\n",
       "      <td>27610.0</td>\n",
       "    </tr>\n",
       "    <tr>\n",
       "      <th>2</th>\n",
       "      <td>22</td>\n",
       "      <td>0.46</td>\n",
       "      <td>37500</td>\n",
       "      <td>9/16/2004</td>\n",
       "      <td>September 2004</td>\n",
       "      <td>2004</td>\n",
       "      <td>1900</td>\n",
       "      <td>1900</td>\n",
       "      <td>2261</td>\n",
       "      <td>One Story</td>\n",
       "      <td>Conventional</td>\n",
       "      <td>2.0</td>\n",
       "      <td>WSE</td>\n",
       "      <td>Wendell</td>\n",
       "      <td>27591.0</td>\n",
       "    </tr>\n",
       "    <tr>\n",
       "      <th>3</th>\n",
       "      <td>25</td>\n",
       "      <td>0.96</td>\n",
       "      <td>70000</td>\n",
       "      <td>1/1/1971</td>\n",
       "      <td>January 1971</td>\n",
       "      <td>1971</td>\n",
       "      <td>1971</td>\n",
       "      <td>1971</td>\n",
       "      <td>3770</td>\n",
       "      <td>One Story</td>\n",
       "      <td>Conventional</td>\n",
       "      <td>7.0</td>\n",
       "      <td>WGE</td>\n",
       "      <td>Raleigh</td>\n",
       "      <td>27613.0</td>\n",
       "    </tr>\n",
       "    <tr>\n",
       "      <th>4</th>\n",
       "      <td>30</td>\n",
       "      <td>0.47</td>\n",
       "      <td>380000</td>\n",
       "      <td>8/12/2015</td>\n",
       "      <td>August 2015</td>\n",
       "      <td>2015</td>\n",
       "      <td>1946</td>\n",
       "      <td>2017</td>\n",
       "      <td>1789</td>\n",
       "      <td>One Story</td>\n",
       "      <td>Conventional</td>\n",
       "      <td>2.0</td>\n",
       "      <td>ALL</td>\n",
       "      <td>Raleigh</td>\n",
       "      <td>27607.0</td>\n",
       "    </tr>\n",
       "  </tbody>\n",
       "</table>\n",
       "</div>"
      ],
      "text/plain": [
       "   ID  acreage  total_sale_price total_sale_date Month_Year_of_Sale  \\\n",
       "0  19     0.21             34500        1/1/1974       January 1974   \n",
       "1  20     0.46             35500       5/18/1983           May 1983   \n",
       "2  22     0.46             37500       9/16/2004     September 2004   \n",
       "3  25     0.96             70000        1/1/1971       January 1971   \n",
       "4  30     0.47            380000       8/12/2015        August 2015   \n",
       "\n",
       "   year_of_sale  Year_Built  year_remodeled  Heated_Area num_stories  \\\n",
       "0          1974        1964            1964         1828   One Story   \n",
       "1          1983        1970            1970         1240   One Story   \n",
       "2          2004        1900            1900         2261   One Story   \n",
       "3          1971        1971            1971         3770   One Story   \n",
       "4          2015        1946            2017         1789   One Story   \n",
       "\n",
       "   design_style  bath utilities     city      zip  \n",
       "0   Split level   2.0       ALL  Raleigh  27610.0  \n",
       "1  Conventional   0.0         E  Raleigh  27610.0  \n",
       "2  Conventional   2.0       WSE  Wendell  27591.0  \n",
       "3  Conventional   7.0       WGE  Raleigh  27613.0  \n",
       "4  Conventional   2.0       ALL  Raleigh  27607.0  "
      ]
     },
     "execution_count": 173,
     "metadata": {},
     "output_type": "execute_result"
    }
   ],
   "source": [
    "transformed_df.head()"
   ]
  },
  {
   "cell_type": "markdown",
   "id": "e00da639-f2e7-4d43-b52c-f8a8fd7bb31c",
   "metadata": {},
   "source": [
    "##### Key for 'bath'\n",
    "- 0 : 1 Bath\n",
    "- 1 : 1 ½ Bath\n",
    "- 2 : 2 Bath\n",
    "- 3 : 2½ Bath\n",
    "- 4 : 3 Bath\n",
    "- 5 : 3½ Bath\n",
    "- 6 : None of Fixtures\n",
    "- 7 : Other"
   ]
  },
  {
   "cell_type": "markdown",
   "id": "ea3e9a2c-0ee0-49bc-8242-d1cb0ae8950c",
   "metadata": {},
   "source": [
    "#### Scaling with Sklearn.preprocessing"
   ]
  },
  {
   "cell_type": "code",
   "execution_count": 193,
   "id": "926e2cc7-6316-4123-b55f-d9d4d025e76a",
   "metadata": {},
   "outputs": [
    {
     "data": {
      "text/plain": [
       "array([-0.12608609,  0.00892712,  0.00892712, ..., -0.13688715,\n",
       "        2.14753641, -0.17469085])"
      ]
     },
     "execution_count": 193,
     "metadata": {},
     "output_type": "execute_result"
    }
   ],
   "source": [
    "from sklearn import preprocessing\n",
    "\n",
    "db = wakeCounty['acreage']\n",
    "db_scaled = preprocessing.scale(db)\n",
    "\n",
    "db_scaled"
   ]
  },
  {
   "cell_type": "code",
   "execution_count": 194,
   "id": "cebeeb97-8266-4c40-85bb-ce3216dc8dd3",
   "metadata": {},
   "outputs": [
    {
     "name": "stdout",
     "output_type": "stream",
     "text": [
      "-1.0367164071503153e-16\n",
      "0.9999999999999997\n"
     ]
    }
   ],
   "source": [
    "print(db_scaled.mean(axis=0))\n",
    "print(db_scaled.std(axis=0))"
   ]
  },
  {
   "cell_type": "code",
   "execution_count": null,
   "id": "fb03bf01-f0c4-46f5-8e03-5d265f9cf26e",
   "metadata": {},
   "outputs": [],
   "source": []
  }
 ],
 "metadata": {
  "kernelspec": {
   "display_name": "Python 3 (ipykernel)",
   "language": "python",
   "name": "python3"
  },
  "language_info": {
   "codemirror_mode": {
    "name": "ipython",
    "version": 3
   },
   "file_extension": ".py",
   "mimetype": "text/x-python",
   "name": "python",
   "nbconvert_exporter": "python",
   "pygments_lexer": "ipython3",
   "version": "3.9.7"
  }
 },
 "nbformat": 4,
 "nbformat_minor": 5
}
