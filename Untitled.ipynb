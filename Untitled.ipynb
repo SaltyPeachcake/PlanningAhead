{
 "cells": [
  {
   "cell_type": "code",
   "execution_count": 57,
   "id": "1815132a-c96c-42ed-8da8-fd38f23c4dcb",
   "metadata": {},
   "outputs": [],
   "source": [
    "import pandas as pd\n",
    "import numpy as np"
   ]
  },
  {
   "cell_type": "code",
   "execution_count": 58,
   "id": "4f87ccae-f207-43e5-8869-f4bb406a6d01",
   "metadata": {},
   "outputs": [
    {
     "name": "stdout",
     "output_type": "stream",
     "text": [
      "<class 'pandas.core.frame.DataFrame'>\n",
      "RangeIndex: 308292 entries, 0 to 308291\n",
      "Data columns (total 15 columns):\n",
      " #   Column              Non-Null Count   Dtype  \n",
      "---  ------              --------------   -----  \n",
      " 0   Real_Estate_Id      308292 non-null  int64  \n",
      " 1   Deeded_Acreage      308292 non-null  float64\n",
      " 2   Total_Sale_Price    308292 non-null  int64  \n",
      " 3   Total_Sale_Date     308292 non-null  object \n",
      " 4   Month_Year_of_Sale  308292 non-null  object \n",
      " 5   Year_of_Sale        308292 non-null  int64  \n",
      " 6   Year_Built          308292 non-null  int64  \n",
      " 7   Year_Remodeled      308292 non-null  int64  \n",
      " 8   Heated_Area         308292 non-null  int64  \n",
      " 9   Num_Stories         308292 non-null  object \n",
      " 10  Design_Style        308292 non-null  object \n",
      " 11  Bath                308275 non-null  object \n",
      " 12  Utilities           306324 non-null  object \n",
      " 13  Physical_City       308183 non-null  object \n",
      " 14  Physical_Zip        308146 non-null  float64\n",
      "dtypes: float64(2), int64(6), object(7)\n",
      "memory usage: 35.3+ MB\n"
     ]
    }
   ],
   "source": [
    "path = '/Users/ianwe/Documents/GitHub/PlanningAhead/Wake County Data/' ## Update this to the path to where the repo is cloned\n",
    "\n",
    "\n",
    "wakeCounty = pd.read_csv(path + 'WakeCountyHousing.csv')\n",
    "\n",
    "wakeCounty.info()"
   ]
  },
  {
   "cell_type": "markdown",
   "id": "5739f934-86eb-4bbd-8a91-668c7ac22855",
   "metadata": {},
   "source": [
    "### Wake County\n",
    "#### Clean the Data (deal with missing values)"
   ]
  },
  {
   "cell_type": "code",
   "execution_count": 63,
   "id": "7f3d8c12-bb4c-4e29-bb84-5f9841136ee6",
   "metadata": {},
   "outputs": [
    {
     "data": {
      "text/plain": [
       "ID                    0\n",
       "acreage               0\n",
       "total_sale_price      0\n",
       "total_sale_date       0\n",
       "Month_Year_of_Sale    0\n",
       "year_of_sale          0\n",
       "Year_Built            0\n",
       "year_remodeled        0\n",
       "Heated_Area           0\n",
       "num_stories           0\n",
       "design_style          0\n",
       "bath                  0\n",
       "utilities             0\n",
       "city                  0\n",
       "zip                   0\n",
       "dtype: int64"
      ]
     },
     "execution_count": 71,
     "metadata": {},
     "output_type": "execute_result"
    }
   ],
   "source": [
    "wakeCounty.rename(columns={'Real_Estate_Id':'ID',\n",
    "                            'Deeded_Acreage':'acreage',\n",
    "                            'Total_Sale_Price':'total_sale_price',\n",
    "                            'Total_Sale_Date':'total_sale_date',\n",
    "                            'Month_Year_Sale':'month_year_sale',\n",
    "                            'Year_of_Sale':'year_of_sale',\n",
    "                            'Yeah_Build':'year_built',\n",
    "                            'Year_Remodeled':'year_remodeled',\n",
    "                            'Headed_Area':'headed_area',\n",
    "                            'Num_Stories':'num_stories',\n",
    "                            'Design_Style':'design_style',\n",
    "                            'Bath':'bath',\n",
    "                            'Utilities':'utilities',\n",
    "                            'Physical_City':'city',\n",
    "                            'Physical_Zip':'zip'\n",
    "                          },inplace=True)\n",
    "\n",
    "wakeCounty[\"bath\"] = wakeCounty[\"bath\"].fillna(\"No of Fixtures\")\n",
    "wakeCounty[\"utilities\"] = wakeCounty[\"utilities\"].fillna(\"N/A\")\n",
    "wakeCounty[\"city\"] = wakeCounty[\"city\"].fillna(\"Outside of City Limits\")\n",
    "wakeCounty = wakeCounty.dropna()\n",
    "\n",
    "wakeCounty.isnull().sum()"
   ]
  },
  {
   "cell_type": "markdown",
   "id": "def55fc7-3922-4203-b47d-fc6782e3b9bf",
   "metadata": {},
   "source": [
    "#### Use an Ordinal Encoder"
   ]
  },
  {
   "cell_type": "code",
   "execution_count": 77,
   "id": "fc547325-0a15-4a93-a90d-27f87d5ba9b8",
   "metadata": {},
   "outputs": [
    {
     "data": {
      "text/plain": [
       "array(['Split level', 'Conventional', 'Ranch', 'Townhouse', 'Split Foyer',\n",
       "       'Contemporary', 'Modular', 'Colonial', 'Conversion', 'Condo',\n",
       "       'Log', 'Duplex', 'Manuf Multi', 'Cape'], dtype=object)"
      ]
     },
     "execution_count": 77,
     "metadata": {},
     "output_type": "execute_result"
    }
   ],
   "source": [
    "from sklearn.preprocessing import OrdinalEncoder\n",
    "from numpy import asarray\n",
    "\n",
    "data = asarray(wakeCounty['design_style'].unique())\n",
    "encoder = OrdinalEncoder()\n",
    "# transform data\n",
    "result = encoder.fit_transform(data)\n",
    "print(result)"
   ]
  },
  {
   "cell_type": "code",
   "execution_count": null,
   "id": "f6dddc71-ae38-47a9-80f4-46affd0e5f13",
   "metadata": {},
   "outputs": [],
   "source": []
  }
 ],
 "metadata": {
  "kernelspec": {
   "display_name": "Python 3 (ipykernel)",
   "language": "python",
   "name": "python3"
  },
  "language_info": {
   "codemirror_mode": {
    "name": "ipython",
    "version": 3
   },
   "file_extension": ".py",
   "mimetype": "text/x-python",
   "name": "python",
   "nbconvert_exporter": "python",
   "pygments_lexer": "ipython3",
   "version": "3.9.7"
  }
 },
 "nbformat": 4,
 "nbformat_minor": 5
}
