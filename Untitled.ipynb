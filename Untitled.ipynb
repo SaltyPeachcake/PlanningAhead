{
 "cells": [
  {
   "cell_type": "code",
   "execution_count": null,
   "id": "1815132a-c96c-42ed-8da8-fd38f23c4dcb",
   "metadata": {},
   "outputs": [],
   "source": [
    "import pandas as pd\n",
    "import numpy as np"
   ]
  },
  {
   "cell_type": "code",
   "execution_count": 42,
   "id": "4f87ccae-f207-43e5-8869-f4bb406a6d01",
   "metadata": {},
   "outputs": [
    {
     "name": "stdout",
     "output_type": "stream",
     "text": [
      "<class 'pandas.core.frame.DataFrame'>\n",
      "RangeIndex: 308292 entries, 0 to 308291\n",
      "Data columns (total 15 columns):\n",
      " #   Column              Non-Null Count   Dtype  \n",
      "---  ------              --------------   -----  \n",
      " 0   Real_Estate_Id      308292 non-null  int64  \n",
      " 1   Deeded_Acreage      308292 non-null  float64\n",
      " 2   Total_Sale_Price    308292 non-null  int64  \n",
      " 3   Total_Sale_Date     308292 non-null  object \n",
      " 4   Month_Year_of_Sale  308292 non-null  object \n",
      " 5   Year_of_Sale        308292 non-null  int64  \n",
      " 6   Year_Built          308292 non-null  int64  \n",
      " 7   Year_Remodeled      308292 non-null  int64  \n",
      " 8   Heated_Area         308292 non-null  int64  \n",
      " 9   Num_Stories         308292 non-null  object \n",
      " 10  Design_Style        308292 non-null  object \n",
      " 11  Bath                308275 non-null  object \n",
      " 12  Utilities           306324 non-null  object \n",
      " 13  Physical_City       308183 non-null  object \n",
      " 14  Physical_Zip        308146 non-null  float64\n",
      "dtypes: float64(2), int64(6), object(7)\n",
      "memory usage: 35.3+ MB\n"
     ]
    }
   ],
   "source": [
    "path = '/Users/ianwe/Documents/GitHub/PlanningAhead/Wake County Data/' ## Update this to the path to where the repo is cloned\n",
    "\n",
    "\n",
    "wakeCounty = pd.read_csv(path + 'WakeCountyHousing.csv')\n",
    "\n",
    "wakeCounty.info()"
   ]
  },
  {
   "cell_type": "markdown",
   "id": "5739f934-86eb-4bbd-8a91-668c7ac22855",
   "metadata": {},
   "source": [
    "### Wake County\n",
    "#### Clean the Data (deal with missing values)"
   ]
  },
  {
   "cell_type": "code",
   "execution_count": 43,
   "id": "7f3d8c12-bb4c-4e29-bb84-5f9841136ee6",
   "metadata": {},
   "outputs": [
    {
     "data": {
      "text/plain": [
       "ID                    0\n",
       "acreage               0\n",
       "total_sale_price      0\n",
       "total_sale_date       0\n",
       "Month_Year_of_Sale    0\n",
       "year_of_sale          0\n",
       "Year_Built            0\n",
       "year_remodeled        0\n",
       "Heated_Area           0\n",
       "num_stories           0\n",
       "design_style          0\n",
       "bath                  0\n",
       "utilities             0\n",
       "city                  0\n",
       "zip                   0\n",
       "dtype: int64"
      ]
     },
     "execution_count": 43,
     "metadata": {},
     "output_type": "execute_result"
    }
   ],
   "source": [
    "wakeCounty.rename(columns={'Real_Estate_Id':'ID',\n",
    "                            'Deeded_Acreage':'acreage',\n",
    "                            'Total_Sale_Price':'total_sale_price',\n",
    "                            'Total_Sale_Date':'total_sale_date',\n",
    "                            'Month_Year_Sale':'month_year_sale',\n",
    "                            'Year_of_Sale':'year_of_sale',\n",
    "                            'Yeah_Build':'year_built',\n",
    "                            'Year_Remodeled':'year_remodeled',\n",
    "                            'Headed_Area':'headed_area',\n",
    "                            'Num_Stories':'num_stories',\n",
    "                            'Design_Style':'design_style',\n",
    "                            'Bath':'bath',\n",
    "                            'Utilities':'utilities',\n",
    "                            'Physical_City':'city',\n",
    "                            'Physical_Zip':'zip'\n",
    "                          },inplace=True)\n",
    "\n",
    "wakeCounty[\"bath\"] = wakeCounty[\"bath\"].fillna(\"None of Fixtures\")\n",
    "wakeCounty[\"utilities\"] = wakeCounty[\"utilities\"].fillna(\"N/A\")\n",
    "wakeCounty[\"city\"] = wakeCounty[\"city\"].fillna(\"Outside of City Limits\")\n",
    "wakeCounty = wakeCounty.dropna()\n",
    "\n",
    "wakeCounty.isnull().sum()"
   ]
  },
  {
   "cell_type": "markdown",
   "id": "3c45ea27-0585-4acb-ba60-adba70c94726",
   "metadata": {},
   "source": [
    "#### Use One-Hot Encoder"
   ]
  },
  {
   "cell_type": "code",
   "execution_count": 44,
   "id": "fc547325-0a15-4a93-a90d-27f87d5ba9b8",
   "metadata": {},
   "outputs": [],
   "source": [
    "from sklearn.preprocessing import OneHotEncoder\n",
    "\n",
    "#One hot encode 'design_style'\n",
    "ohe = OneHotEncoder(sparse=False)\n",
    "encodedDesign = ohe.fit_transform(wakeCounty[['design_style']])"
   ]
  },
  {
   "cell_type": "markdown",
   "id": "637a5fd3-e327-4308-b1bb-93924fd6e2b3",
   "metadata": {},
   "source": []
  },
  {
   "cell_type": "markdown",
   "id": "b2781b84-9931-409a-9549-590758ddbb49",
   "metadata": {},
   "source": [
    "### Making a Custom Transformer to use Ordinal Encoding"
   ]
  },
  {
   "cell_type": "code",
   "execution_count": 45,
   "id": "5db9c313-65c5-441e-ae25-0aea9691bff5",
   "metadata": {},
   "outputs": [],
   "source": [
    "from sklearn.pipeline import Pipeline\n",
    "from sklearn.base import BaseEstimator, TransformerMixin\n",
    "from sklearn.preprocessing import OrdinalEncoder"
   ]
  },
  {
   "cell_type": "code",
   "execution_count": 46,
   "id": "9cd47882-d578-4b2a-a6f6-1506f94055f5",
   "metadata": {},
   "outputs": [],
   "source": [
    "class customEncoderTranformer(BaseEstimator, TransformerMixin):\n",
    "    def __init__(self, columns=None):\n",
    "        self.columns = columns\n",
    "        \n",
    "    def fit(self, X, y=None):\n",
    "        return self\n",
    "    \n",
    "    def transform(self, X, y=None):\n",
    "        cols_to_transform = list(X.columns)\n",
    "        \n",
    "        if self.columns:\n",
    "            cols_to_transform = self.columns\n",
    "                   \n",
    "        encoder = OrdinalEncoder()\n",
    "        encoder.fit(X[cols_to_transform])\n",
    "        X[cols_to_transform] = encoder.transform(X[cols_to_transform])\n",
    "        return X"
   ]
  },
  {
   "cell_type": "code",
   "execution_count": 47,
   "id": "629225a4-ef1f-4f0c-a9a7-972e8a57fc48",
   "metadata": {},
   "outputs": [],
   "source": [
    "pipe = Pipeline(\n",
    "    steps=[\n",
    "        (\"ordinal_encoder\", customEncoderTranformer(columns=['bath','design_style','utilities','num_stories']))\n",
    "    ]\n",
    ")\n",
    "\n",
    "transformed_df = pipe.fit_transform(wakeCounty)"
   ]
  },
  {
   "cell_type": "code",
   "execution_count": 48,
   "id": "620872c8-61ed-4a35-909a-a2090793ac31",
   "metadata": {},
   "outputs": [],
   "source": [
    "transformed_df.head()\n",
    "wakeCounty = transformed_df"
   ]
  },
  {
   "cell_type": "markdown",
   "id": "e00da639-f2e7-4d43-b52c-f8a8fd7bb31c",
   "metadata": {
    "jp-MarkdownHeadingCollapsed": true,
    "tags": []
   },
   "source": [
    "##### Key for 'bath' \n",
    "- 0 : 1 Bath\n",
    "- 1 : 1 ½ Bath\n",
    "- 2 : 2 Bath\n",
    "- 3 : 2½ Bath\n",
    "- 4 : 3 Bath\n",
    "- 5 : 3½ Bath\n",
    "- 6 : None of Fixtures\n",
    "- 7 : Other"
   ]
  },
  {
   "cell_type": "markdown",
   "id": "ea3e9a2c-0ee0-49bc-8242-d1cb0ae8950c",
   "metadata": {},
   "source": [
    "#### Scaling with Sklearn.preprocessing"
   ]
  },
  {
   "cell_type": "code",
   "execution_count": 49,
   "id": "926e2cc7-6316-4123-b55f-d9d4d025e76a",
   "metadata": {},
   "outputs": [
    {
     "data": {
      "text/plain": [
       "array([-0.12608609,  0.00892712,  0.00892712, ..., -0.13688715,\n",
       "        2.14753641, -0.17469085])"
      ]
     },
     "execution_count": 49,
     "metadata": {},
     "output_type": "execute_result"
    }
   ],
   "source": [
    "from sklearn import preprocessing\n",
    "\n",
    "db = wakeCounty['acreage']\n",
    "db_scaled = preprocessing.scale(db)\n",
    "\n",
    "db_scaled"
   ]
  },
  {
   "cell_type": "code",
   "execution_count": 50,
   "id": "cebeeb97-8266-4c40-85bb-ce3216dc8dd3",
   "metadata": {},
   "outputs": [
    {
     "name": "stdout",
     "output_type": "stream",
     "text": [
      "-1.0367164071503153e-16\n",
      "0.9999999999999997\n"
     ]
    }
   ],
   "source": [
    "print(db_scaled.mean(axis=0))\n",
    "print(db_scaled.std(axis=0))"
   ]
  },
  {
   "cell_type": "code",
   "execution_count": 51,
   "id": "fb03bf01-f0c4-46f5-8e03-5d265f9cf26e",
   "metadata": {},
   "outputs": [],
   "source": [
    "from sklearn.model_selection import train_test_split\n",
    "x = wakeCounty.drop(['total_sale_price','total_sale_date','Month_Year_of_Sale','city'], axis=1)\n",
    "y = wakeCounty['total_sale_price']\n",
    "\n",
    "trainX, testX, trainY, testY = train_test_split(x,y)"
   ]
  },
  {
   "cell_type": "code",
   "execution_count": null,
   "id": "0d9e3ed0-5353-41e6-8a84-7cb39c382c4b",
   "metadata": {},
   "outputs": [],
   "source": [
    "from sklearn.linear_model import SGDClassifier\n",
    "\n",
    "clf = SGDClassifier(loss=\"hinge\")"
   ]
  },
  {
   "cell_type": "code",
   "execution_count": 53,
   "id": "d177ce13-6f22-4ac9-8fec-fa06fa5af8ed",
   "metadata": {},
   "outputs": [],
   "source": [
    "from sklearn.preprocessing import StandardScaler\n",
    "scaler = StandardScaler()\n",
    "scaler.fit(trainX)\n",
    "trainX = scaler.transform(trainX)\n",
    "testX = scaler.transform(testX)"
   ]
  },
  {
   "cell_type": "code",
   "execution_count": null,
   "id": "53dd67f0-b958-4319-aa90-8d89877d6059",
   "metadata": {},
   "outputs": [],
   "source": [
    "clf.fit(trainX, trainY)"
   ]
  },
  {
   "cell_type": "code",
   "execution_count": null,
   "id": "cc900bb5-63e2-4e2f-93d8-eacae3dd370a",
   "metadata": {},
   "outputs": [],
   "source": [
    "y_pred = clf.predict(textX)"
   ]
  },
  {
   "cell_type": "code",
   "execution_count": null,
   "id": "5a5026b7-dee9-4b8c-960a-fc6c10108f4c",
   "metadata": {},
   "outputs": [],
   "source": []
  }
 ],
 "metadata": {
  "kernelspec": {
   "display_name": "Python 3 (ipykernel)",
   "language": "python",
   "name": "python3"
  },
  "language_info": {
   "codemirror_mode": {
    "name": "ipython",
    "version": 3
   },
   "file_extension": ".py",
   "mimetype": "text/x-python",
   "name": "python",
   "nbconvert_exporter": "python",
   "pygments_lexer": "ipython3",
   "version": "3.9.7"
  }
 },
 "nbformat": 4,
 "nbformat_minor": 5
}
