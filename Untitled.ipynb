{
 "cells": [
  {
   "cell_type": "code",
   "execution_count": 1,
   "id": "1815132a-c96c-42ed-8da8-fd38f23c4dcb",
   "metadata": {},
   "outputs": [],
   "source": [
    "import pandas as pd\n",
    "import numpy as np"
   ]
  },
  {
   "cell_type": "code",
   "execution_count": 2,
   "id": "4f87ccae-f207-43e5-8869-f4bb406a6d01",
   "metadata": {},
   "outputs": [
    {
     "name": "stdout",
     "output_type": "stream",
     "text": [
      "<class 'pandas.core.frame.DataFrame'>\n",
      "RangeIndex: 308292 entries, 0 to 308291\n",
      "Data columns (total 15 columns):\n",
      " #   Column              Non-Null Count   Dtype  \n",
      "---  ------              --------------   -----  \n",
      " 0   Real_Estate_Id      308292 non-null  int64  \n",
      " 1   Deeded_Acreage      308292 non-null  float64\n",
      " 2   Total_Sale_Price    308292 non-null  int64  \n",
      " 3   Total_Sale_Date     308292 non-null  object \n",
      " 4   Month_Year_of_Sale  308292 non-null  object \n",
      " 5   Year_of_Sale        308292 non-null  int64  \n",
      " 6   Year_Built          308292 non-null  int64  \n",
      " 7   Year_Remodeled      308292 non-null  int64  \n",
      " 8   Heated_Area         308292 non-null  int64  \n",
      " 9   Num_Stories         308292 non-null  object \n",
      " 10  Design_Style        308292 non-null  object \n",
      " 11  Bath                308275 non-null  object \n",
      " 12  Utilities           306324 non-null  object \n",
      " 13  Physical_City       308183 non-null  object \n",
      " 14  Physical_Zip        308146 non-null  float64\n",
      "dtypes: float64(2), int64(6), object(7)\n",
      "memory usage: 35.3+ MB\n"
     ]
    }
   ],
   "source": [
    "path = '/Users/ianwe/Documents/GitHub/PlanningAhead/Wake County Data/'\n",
    "\n",
    "wakeCounty = pd.read_csv(path + 'WakeCountyHousing.csv')\n",
    "\n",
    "wakeCounty.info()"
   ]
  },
  {
   "cell_type": "markdown",
   "id": "5739f934-86eb-4bbd-8a91-668c7ac22855",
   "metadata": {},
   "source": [
    "### Wake County\n",
    "#### Clean the Data (deal with missing values)"
   ]
  },
  {
   "cell_type": "code",
   "execution_count": 3,
   "id": "7f3d8c12-bb4c-4e29-bb84-5f9841136ee6",
   "metadata": {},
   "outputs": [
    {
     "data": {
      "text/plain": [
       "ID                    0\n",
       "acreage               0\n",
       "total_sale_price      0\n",
       "total_sale_date       0\n",
       "Month_Year_of_Sale    0\n",
       "year_of_sale          0\n",
       "Year_Built            0\n",
       "year_remodeled        0\n",
       "Heated_Area           0\n",
       "num_stories           0\n",
       "design_style          0\n",
       "bath                  0\n",
       "utilities             0\n",
       "city                  0\n",
       "zip                   0\n",
       "dtype: int64"
      ]
     },
     "execution_count": 3,
     "metadata": {},
     "output_type": "execute_result"
    }
   ],
   "source": [
    "wakeCounty.rename(columns={'Real_Estate_Id':'ID',\n",
    "                            'Deeded_Acreage':'acreage',\n",
    "                            'Total_Sale_Price':'total_sale_price',\n",
    "                            'Total_Sale_Date':'total_sale_date',\n",
    "                            'Month_Year_Sale':'month_year_sale',\n",
    "                            'Year_of_Sale':'year_of_sale',\n",
    "                            'Yeah_Build':'year_built',\n",
    "                            'Year_Remodeled':'year_remodeled',\n",
    "                            'Headed_Area':'headed_area',\n",
    "                            'Num_Stories':'num_stories',\n",
    "                            'Design_Style':'design_style',\n",
    "                            'Bath':'bath',\n",
    "                            'Utilities':'utilities',\n",
    "                            'Physical_City':'city',\n",
    "                            'Physical_Zip':'zip'\n",
    "                          },inplace=True)\n",
    "wakeCountyCopy = wakeCounty.copy() #This will be used at the end for the pipeline that does the entire process\n",
    "\n",
    "\n",
    "wakeCounty[\"bath\"] = wakeCounty[\"bath\"].fillna(\"None of Fixtures\")\n",
    "wakeCounty[\"utilities\"] = wakeCounty[\"utilities\"].fillna(\"N/A\")\n",
    "wakeCounty[\"city\"] = wakeCounty[\"city\"].fillna(\"Outside of City Limits\")\n",
    "wakeCounty = wakeCounty.dropna()\n",
    "\n",
    "wakeCounty.isnull().sum()"
   ]
  },
  {
   "cell_type": "markdown",
   "id": "3c45ea27-0585-4acb-ba60-adba70c94726",
   "metadata": {},
   "source": [
    "#### Use One-Hot Encoder"
   ]
  },
  {
   "cell_type": "code",
   "execution_count": 4,
   "id": "fc547325-0a15-4a93-a90d-27f87d5ba9b8",
   "metadata": {},
   "outputs": [],
   "source": [
    "from sklearn.preprocessing import OneHotEncoder\n",
    "\n",
    "#One hot encode 'design_style'\n",
    "ohe = OneHotEncoder(sparse=False)\n",
    "encodedDesign = ohe.fit_transform(wakeCounty[['design_style']])"
   ]
  },
  {
   "cell_type": "markdown",
   "id": "637a5fd3-e327-4308-b1bb-93924fd6e2b3",
   "metadata": {},
   "source": []
  },
  {
   "cell_type": "markdown",
   "id": "b2781b84-9931-409a-9549-590758ddbb49",
   "metadata": {},
   "source": [
    "### Making a Custom Transformer to use Ordinal Encoding"
   ]
  },
  {
   "cell_type": "code",
   "execution_count": 5,
   "id": "5db9c313-65c5-441e-ae25-0aea9691bff5",
   "metadata": {},
   "outputs": [],
   "source": [
    "from sklearn.pipeline import Pipeline\n",
    "from sklearn.base import BaseEstimator, TransformerMixin\n",
    "from sklearn.preprocessing import OrdinalEncoder"
   ]
  },
  {
   "cell_type": "code",
   "execution_count": 6,
   "id": "9cd47882-d578-4b2a-a6f6-1506f94055f5",
   "metadata": {},
   "outputs": [],
   "source": [
    "class customEncoderTranformer(BaseEstimator, TransformerMixin):\n",
    "    def __init__(self, columns=None):\n",
    "        self.columns = columns\n",
    "        \n",
    "    def fit(self, X, y=None):\n",
    "        return self\n",
    "    \n",
    "    def transform(self, X, y=None):\n",
    "        cols_to_transform = list(X.columns)\n",
    "        \n",
    "        if self.columns:\n",
    "            cols_to_transform = self.columns\n",
    "                   \n",
    "        encoder = OrdinalEncoder()\n",
    "        encoder.fit(X[cols_to_transform])\n",
    "        X[cols_to_transform] = encoder.transform(X[cols_to_transform])\n",
    "        return X"
   ]
  },
  {
   "cell_type": "code",
   "execution_count": 7,
   "id": "629225a4-ef1f-4f0c-a9a7-972e8a57fc48",
   "metadata": {},
   "outputs": [],
   "source": [
    "pipe = Pipeline(\n",
    "    steps=[\n",
    "        (\"ordinal_encoder\", customEncoderTranformer(columns=['bath','design_style','utilities','num_stories']))\n",
    "    ]\n",
    ")\n",
    "\n",
    "transformed_df = pipe.fit_transform(wakeCounty)"
   ]
  },
  {
   "cell_type": "code",
   "execution_count": 8,
   "id": "620872c8-61ed-4a35-909a-a2090793ac31",
   "metadata": {},
   "outputs": [],
   "source": [
    "transformed_df.head()\n",
    "wakeCounty = transformed_df"
   ]
  },
  {
   "cell_type": "markdown",
   "id": "d0680f93-a609-4d13-8a4e-cab0e18387d7",
   "metadata": {},
   "source": [
    "#### Split the dataset to allow for future models to be made\n"
   ]
  },
  {
   "cell_type": "code",
   "execution_count": 9,
   "id": "6f36596b-265f-4100-86e0-664f3b6faf68",
   "metadata": {},
   "outputs": [],
   "source": [
    "from sklearn.model_selection import train_test_split\n",
    "x = wakeCounty.drop(['total_sale_price','total_sale_date','Month_Year_of_Sale','city'], axis=1)\n",
    "y = wakeCounty['total_sale_price']\n",
    "\n",
    "trainX, testX, trainY, testY = train_test_split(x,y)"
   ]
  },
  {
   "cell_type": "markdown",
   "id": "e00da639-f2e7-4d43-b52c-f8a8fd7bb31c",
   "metadata": {
    "jp-MarkdownHeadingCollapsed": true,
    "tags": []
   },
   "source": [
    "##### Key for 'bath' \n",
    "- 0 : 1 Bath\n",
    "- 1 : 1 ½ Bath\n",
    "- 2 : 2 Bath\n",
    "- 3 : 2½ Bath\n",
    "- 4 : 3 Bath\n",
    "- 5 : 3½ Bath\n",
    "- 6 : None of Fixtures\n",
    "- 7 : Other"
   ]
  },
  {
   "cell_type": "markdown",
   "id": "ea3e9a2c-0ee0-49bc-8242-d1cb0ae8950c",
   "metadata": {},
   "source": [
    "#### Scaling with Sklearn.preprocessing"
   ]
  },
  {
   "cell_type": "code",
   "execution_count": 10,
   "id": "926e2cc7-6316-4123-b55f-d9d4d025e76a",
   "metadata": {},
   "outputs": [],
   "source": [
    "from sklearn import preprocessing\n",
    "\n",
    "db = wakeCounty['acreage']\n",
    "db_scaled = preprocessing.scale(db)\n",
    "\n",
    "#Pt 2\n",
    "from sklearn.preprocessing import StandardScaler\n",
    "scaler = StandardScaler()\n",
    "scaler.fit(trainX)\n",
    "trainX = scaler.transform(trainX)\n",
    "testX = scaler.transform(testX)"
   ]
  },
  {
   "cell_type": "code",
   "execution_count": 11,
   "id": "cebeeb97-8266-4c40-85bb-ce3216dc8dd3",
   "metadata": {},
   "outputs": [
    {
     "name": "stdout",
     "output_type": "stream",
     "text": [
      "-1.0367164071503153e-16\n",
      "0.9999999999999997\n"
     ]
    }
   ],
   "source": [
    "print(db_scaled.mean(axis=0))\n",
    "print(db_scaled.std(axis=0))"
   ]
  },
  {
   "cell_type": "markdown",
   "id": "f7005f8a-ae8b-4115-93b1-53d1c92e4810",
   "metadata": {},
   "source": [
    "#### Use SGDClassifier"
   ]
  },
  {
   "cell_type": "code",
   "execution_count": 12,
   "id": "0d9e3ed0-5353-41e6-8a84-7cb39c382c4b",
   "metadata": {},
   "outputs": [],
   "source": [
    "from sklearn.linear_model import SGDClassifier\n",
    "from sklearn.metrics import accuracy_score\n",
    "\n",
    "clf = SGDClassifier(loss=\"log\")"
   ]
  },
  {
   "cell_type": "code",
   "execution_count": 13,
   "id": "53dd67f0-b958-4319-aa90-8d89877d6059",
   "metadata": {},
   "outputs": [],
   "source": [
    "#clf.fit(testX, testY)            #Note that by fitting trainX and trainY take a significantly longer amount of time\n",
    "#y_pred = clf.predict(trainX)     # so for this we swapped which sets to fit, however this also greatly affects the \n",
    "                                 # accuracy since there far fewer rows of data to train with\n",
    "#accuracy_score(trainY, y_pred)"
   ]
  },
  {
   "cell_type": "markdown",
   "id": "609f239a-b6ad-4f5d-9437-7247b6b143e9",
   "metadata": {},
   "source": [
    "#### Use sklearn.linear_model.LinearRegression"
   ]
  },
  {
   "cell_type": "code",
   "execution_count": 14,
   "id": "cc900bb5-63e2-4e2f-93d8-eacae3dd370a",
   "metadata": {},
   "outputs": [
    {
     "name": "stdout",
     "output_type": "stream",
     "text": [
      "0.6831536395045472\n"
     ]
    }
   ],
   "source": [
    "from sklearn.linear_model import LinearRegression\n",
    "import matplotlib.pyplot as plt\n",
    "\n",
    "lReg = LinearRegression()\n",
    "  \n",
    "lReg.fit(trainX, trainY)\n",
    "print(lReg.score(testX, testY))"
   ]
  },
  {
   "cell_type": "markdown",
   "id": "5fe1ec26-cb7c-4b64-8a45-ab4e1c201155",
   "metadata": {},
   "source": [
    "#### Use sklearn.tree.DecisionTreeRegressor"
   ]
  },
  {
   "cell_type": "code",
   "execution_count": 15,
   "id": "75f4ff74-3663-428b-a06b-9602a433ca71",
   "metadata": {},
   "outputs": [
    {
     "name": "stdout",
     "output_type": "stream",
     "text": [
      "0.7034362437627133\n"
     ]
    }
   ],
   "source": [
    "from sklearn.tree import DecisionTreeRegressor\n",
    "\n",
    "dtReg = DecisionTreeRegressor()\n",
    "\n",
    "dtReg.fit(trainX, trainY)\n",
    "print(dtReg.score(testX, testY))"
   ]
  },
  {
   "cell_type": "markdown",
   "id": "2fad27dc-abb2-4d92-8ce4-6f2cdd3873d5",
   "metadata": {},
   "source": [
    "#### Create a single pipeline that does full process from data preparation to final prediction."
   ]
  },
  {
   "cell_type": "code",
   "execution_count": 16,
   "id": "cb2f9d9e-28fd-4735-9e5d-bd864b7a874c",
   "metadata": {},
   "outputs": [],
   "source": [
    "class clean(BaseEstimator, TransformerMixin):\n",
    "    def __init__(self, drop=None, encode=None):\n",
    "        self.drop = drop\n",
    "        self.encode = encode\n",
    "        \n",
    "    def fit(self, X, y=None):\n",
    "        return self\n",
    "    \n",
    "    def transform(self, X, y=None):\n",
    "        if self.drop:\n",
    "            cols_to_drop = self.drop\n",
    "            X = X.drop(cols_to_drop,axis=1)\n",
    "        \n",
    "        X = X.dropna()   \n",
    "        \n",
    "        if self.encode:\n",
    "            cols_to_encode = self.encode           \n",
    "            encoder = OrdinalEncoder()\n",
    "            encoder.fit(X[cols_to_encode])\n",
    "            X[cols_to_encode] = encoder.transform(X[cols_to_encode])\n",
    "        return X"
   ]
  },
  {
   "cell_type": "code",
   "execution_count": 21,
   "id": "40b4ae1b-42e3-4e22-9323-32311bd9e2f6",
   "metadata": {},
   "outputs": [],
   "source": [
    "class model(BaseEstimator, TransformerMixin):\n",
    "    def __init__(self, target=None):\n",
    "        self.target = target\n",
    "        \n",
    "    def fit(self, X, y=None, target=None):\n",
    "        if self.target:\n",
    "            target = self.target\n",
    "            x = X\n",
    "            y = X.drop([target], axis=1)\n",
    "            trainX, testX, trainY, testY = train_test_split(x,y)\n",
    "            scaler = StandardScaler()\n",
    "            scaler.fit(trainX)\n",
    "            trainX = scaler.transform(trainX)\n",
    "            testX = scaler.transform(testX)\n",
    "            lReg = LinearRegression()\n",
    "  \n",
    "            lReg.fit(trainX, trainY)\n",
    "            print(lReg.score(testX, testY))\n",
    "        return self\n",
    "    \n",
    "    def transform(self, X, y=None):\n",
    "        return X"
   ]
  },
  {
   "cell_type": "code",
   "execution_count": 22,
   "id": "433cba69-be33-4190-ac12-d517be82448f",
   "metadata": {},
   "outputs": [
    {
     "data": {
      "text/html": [
       "<div>\n",
       "<style scoped>\n",
       "    .dataframe tbody tr th:only-of-type {\n",
       "        vertical-align: middle;\n",
       "    }\n",
       "\n",
       "    .dataframe tbody tr th {\n",
       "        vertical-align: top;\n",
       "    }\n",
       "\n",
       "    .dataframe thead th {\n",
       "        text-align: right;\n",
       "    }\n",
       "</style>\n",
       "<table border=\"1\" class=\"dataframe\">\n",
       "  <thead>\n",
       "    <tr style=\"text-align: right;\">\n",
       "      <th></th>\n",
       "      <th>ID</th>\n",
       "      <th>acreage</th>\n",
       "      <th>total_sale_price</th>\n",
       "      <th>year_of_sale</th>\n",
       "      <th>Year_Built</th>\n",
       "      <th>year_remodeled</th>\n",
       "      <th>Heated_Area</th>\n",
       "      <th>zip</th>\n",
       "    </tr>\n",
       "  </thead>\n",
       "  <tbody>\n",
       "    <tr>\n",
       "      <th>count</th>\n",
       "      <td>308292.000000</td>\n",
       "      <td>308292.000000</td>\n",
       "      <td>3.082920e+05</td>\n",
       "      <td>308292.000000</td>\n",
       "      <td>308292.000000</td>\n",
       "      <td>308292.000000</td>\n",
       "      <td>308292.000000</td>\n",
       "      <td>308146.000000</td>\n",
       "    </tr>\n",
       "    <tr>\n",
       "      <th>mean</th>\n",
       "      <td>244524.805863</td>\n",
       "      <td>0.443446</td>\n",
       "      <td>2.738410e+05</td>\n",
       "      <td>2009.583593</td>\n",
       "      <td>1994.992666</td>\n",
       "      <td>1995.810647</td>\n",
       "      <td>2267.375890</td>\n",
       "      <td>27572.340936</td>\n",
       "    </tr>\n",
       "    <tr>\n",
       "      <th>std</th>\n",
       "      <td>129858.542506</td>\n",
       "      <td>1.851256</td>\n",
       "      <td>1.904003e+05</td>\n",
       "      <td>10.517202</td>\n",
       "      <td>19.671737</td>\n",
       "      <td>19.321347</td>\n",
       "      <td>997.488231</td>\n",
       "      <td>41.800280</td>\n",
       "    </tr>\n",
       "    <tr>\n",
       "      <th>min</th>\n",
       "      <td>19.000000</td>\n",
       "      <td>0.000000</td>\n",
       "      <td>0.000000e+00</td>\n",
       "      <td>1956.000000</td>\n",
       "      <td>0.000000</td>\n",
       "      <td>0.000000</td>\n",
       "      <td>220.000000</td>\n",
       "      <td>27501.000000</td>\n",
       "    </tr>\n",
       "    <tr>\n",
       "      <th>25%</th>\n",
       "      <td>140864.750000</td>\n",
       "      <td>0.140000</td>\n",
       "      <td>1.500000e+05</td>\n",
       "      <td>2004.000000</td>\n",
       "      <td>1986.000000</td>\n",
       "      <td>1986.000000</td>\n",
       "      <td>1532.000000</td>\n",
       "      <td>27526.000000</td>\n",
       "    </tr>\n",
       "    <tr>\n",
       "      <th>50%</th>\n",
       "      <td>244362.500000</td>\n",
       "      <td>0.240000</td>\n",
       "      <td>2.350000e+05</td>\n",
       "      <td>2013.000000</td>\n",
       "      <td>1999.000000</td>\n",
       "      <td>2000.000000</td>\n",
       "      <td>2087.000000</td>\n",
       "      <td>27591.000000</td>\n",
       "    </tr>\n",
       "    <tr>\n",
       "      <th>75%</th>\n",
       "      <td>346481.250000</td>\n",
       "      <td>0.420000</td>\n",
       "      <td>3.500000e+05</td>\n",
       "      <td>2018.000000</td>\n",
       "      <td>2007.000000</td>\n",
       "      <td>2008.000000</td>\n",
       "      <td>2794.000000</td>\n",
       "      <td>27610.000000</td>\n",
       "    </tr>\n",
       "    <tr>\n",
       "      <th>max</th>\n",
       "      <td>484520.000000</td>\n",
       "      <td>307.910000</td>\n",
       "      <td>6.100200e+06</td>\n",
       "      <td>2021.000000</td>\n",
       "      <td>2022.000000</td>\n",
       "      <td>2209.000000</td>\n",
       "      <td>21993.000000</td>\n",
       "      <td>27713.000000</td>\n",
       "    </tr>\n",
       "  </tbody>\n",
       "</table>\n",
       "</div>"
      ],
      "text/plain": [
       "                  ID        acreage  total_sale_price   year_of_sale  \\\n",
       "count  308292.000000  308292.000000      3.082920e+05  308292.000000   \n",
       "mean   244524.805863       0.443446      2.738410e+05    2009.583593   \n",
       "std    129858.542506       1.851256      1.904003e+05      10.517202   \n",
       "min        19.000000       0.000000      0.000000e+00    1956.000000   \n",
       "25%    140864.750000       0.140000      1.500000e+05    2004.000000   \n",
       "50%    244362.500000       0.240000      2.350000e+05    2013.000000   \n",
       "75%    346481.250000       0.420000      3.500000e+05    2018.000000   \n",
       "max    484520.000000     307.910000      6.100200e+06    2021.000000   \n",
       "\n",
       "          Year_Built  year_remodeled    Heated_Area            zip  \n",
       "count  308292.000000   308292.000000  308292.000000  308146.000000  \n",
       "mean     1994.992666     1995.810647    2267.375890   27572.340936  \n",
       "std        19.671737       19.321347     997.488231      41.800280  \n",
       "min         0.000000        0.000000     220.000000   27501.000000  \n",
       "25%      1986.000000     1986.000000    1532.000000   27526.000000  \n",
       "50%      1999.000000     2000.000000    2087.000000   27591.000000  \n",
       "75%      2007.000000     2008.000000    2794.000000   27610.000000  \n",
       "max      2022.000000     2209.000000   21993.000000   27713.000000  "
      ]
     },
     "execution_count": 22,
     "metadata": {},
     "output_type": "execute_result"
    }
   ],
   "source": [
    " wakeCountyCopy.describe()"
   ]
  },
  {
   "cell_type": "code",
   "execution_count": 23,
   "id": "43d40978-4bf6-447a-a0fc-916dd36abf67",
   "metadata": {},
   "outputs": [],
   "source": [
    "pipe1 = Pipeline(steps=[\n",
    "            (\"clean_and_encode\", clean(drop=['total_sale_date','Month_Year_of_Sale','city'], encode=['bath','design_style','utilities','num_stories'])),\n",
    "            (\"scale_and_model\", model(target='total_sale_price'))\n",
    "        ])\n",
    "        "
   ]
  },
  {
   "cell_type": "code",
   "execution_count": null,
   "id": "e02da245-f338-40c2-9a43-cb6030cd2ea4",
   "metadata": {},
   "outputs": [],
   "source": []
  },
  {
   "cell_type": "code",
   "execution_count": 24,
   "id": "e66209ae-018e-492b-8b5a-77369dee807e",
   "metadata": {},
   "outputs": [
    {
     "name": "stdout",
     "output_type": "stream",
     "text": [
      "cleaning...\n",
      "clean\n",
      "modeling...\n",
      "1.0\n",
      "modeled\n",
      "T\n"
     ]
    }
   ],
   "source": [
    "td = pipe1.fit_transform(wakeCountyCopy)"
   ]
  },
  {
   "cell_type": "code",
   "execution_count": null,
   "id": "8846bfd4-355f-4f62-a16f-05734b5a01b7",
   "metadata": {},
   "outputs": [],
   "source": []
  },
  {
   "cell_type": "code",
   "execution_count": null,
   "id": "0ed16988-7eae-48d2-a64e-132b990865fd",
   "metadata": {},
   "outputs": [],
   "source": []
  },
  {
   "cell_type": "code",
   "execution_count": null,
   "id": "f6a185d1-6609-4c2f-84d3-70afdf022e5a",
   "metadata": {},
   "outputs": [],
   "source": []
  }
 ],
 "metadata": {
  "kernelspec": {
   "display_name": "Python 3 (ipykernel)",
   "language": "python",
   "name": "python3"
  },
  "language_info": {
   "codemirror_mode": {
    "name": "ipython",
    "version": 3
   },
   "file_extension": ".py",
   "mimetype": "text/x-python",
   "name": "python",
   "nbconvert_exporter": "python",
   "pygments_lexer": "ipython3",
   "version": "3.9.7"
  }
 },
 "nbformat": 4,
 "nbformat_minor": 5
}
